{
 "cells": [
  {
   "cell_type": "markdown",
   "metadata": {},
   "source": [
    "<img src=\"https://i.imgur.com/3VyrCXI.png\" width=\"1200\">\n",
    "\n",
    "## 도시, 숲, 데이터\n",
    "* 시민이 참여해서 데이터가 만들어지면 지역사회에 어떤 변화를 만들 수 있을까?\n",
    "\n",
    "\n",
    "## 라이브러리 로드"
   ]
  },
  {
   "cell_type": "code",
   "execution_count": null,
   "metadata": {},
   "outputs": [],
   "source": [
    "import pandas as pd\n",
    "import seaborn as sns\n",
    "import matplotlib.pyplot as plt\n",
    "import folium"
   ]
  },
  {
   "cell_type": "markdown",
   "metadata": {},
   "source": [
    "## 폰트 설정"
   ]
  },
  {
   "cell_type": "code",
   "execution_count": null,
   "metadata": {},
   "outputs": [],
   "source": [
    "def get_font_family():\n",
    "    \"\"\"\n",
    "    시스템 환경에 따른 기본 폰트명을 반환하는 함수\n",
    "    \"\"\"\n",
    "    import platform\n",
    "    system_name = platform.system()\n",
    "    \n",
    "    if system_name == \"Darwin\" :\n",
    "        font_family = \"AppleGothic\"\n",
    "    elif system_name == \"Windows\":\n",
    "        font_family = \"Malgun Gothic\"\n",
    "    else:\n",
    "        # Linux(colab)\n",
    "        !apt-get install fonts-nanum -qq  > /dev/null\n",
    "        !fc-cache -fv\n",
    "\n",
    "        import matplotlib as mpl\n",
    "        mpl.font_manager._rebuild()\n",
    "        findfont = mpl.font_manager.fontManager.findfont\n",
    "        mpl.font_manager.findfont = findfont\n",
    "        mpl.backends.backend_agg.findfont = findfont\n",
    "        \n",
    "        font_family = \"NanumBarunGothic\"\n",
    "    return font_family\n",
    "\n",
    "plt.rc(\"font\", family=get_font_family())\n",
    "plt.rc(\"axes\", unicode_minus=False)"
   ]
  },
  {
   "cell_type": "code",
   "execution_count": null,
   "metadata": {},
   "outputs": [],
   "source": [
    "pd.options.display.max_columns = None"
   ]
  },
  {
   "cell_type": "markdown",
   "metadata": {},
   "source": [
    "## 데이터 로드"
   ]
  },
  {
   "cell_type": "code",
   "execution_count": null,
   "metadata": {},
   "outputs": [],
   "source": [
    "# read_excel 을 통해 데이터를 읽어옵니다.\n",
    "df = pd.read_csv(\"https://raw.githubusercontent.com/corazzon/chuncheon_tree/main/cc_tree.csv\")\n",
    "df.shape"
   ]
  },
  {
   "cell_type": "code",
   "execution_count": null,
   "metadata": {},
   "outputs": [],
   "source": [
    "# 데이터의 일부를 살펴봅니다.\n",
    "df.head()"
   ]
  },
  {
   "cell_type": "markdown",
   "metadata": {},
   "source": [
    "## 데이터 요약"
   ]
  },
  {
   "cell_type": "code",
   "execution_count": null,
   "metadata": {},
   "outputs": [],
   "source": [
    "# 행과 열의 수, 컬럼, 결측치, 데이터 타입, 메모리 사용량 등을 볼 수 있습니다.\n",
    "df.info()"
   ]
  },
  {
   "cell_type": "markdown",
   "metadata": {},
   "source": [
    "## 결측치 확인"
   ]
  },
  {
   "cell_type": "code",
   "execution_count": null,
   "metadata": {},
   "outputs": [],
   "source": [
    "# 결측치\n",
    "df.isnull().sum()"
   ]
  },
  {
   "cell_type": "code",
   "execution_count": null,
   "metadata": {},
   "outputs": [],
   "source": [
    "# 결측치 시각화\n",
    "plt.figure(figsize=(15, 6))\n",
    "sns.heatmap(df.isnull(), cmap=\"Greys_r\")"
   ]
  },
  {
   "cell_type": "markdown",
   "metadata": {},
   "source": [
    "## 기술통계\n",
    "### 수치 데이터"
   ]
  },
  {
   "cell_type": "code",
   "execution_count": null,
   "metadata": {},
   "outputs": [],
   "source": [
    "# describe 는 기본값으로 수치데이터가 있다면 수치데이터에 대한 기술통계 값을 보여줍니다.\n",
    "df.describe()"
   ]
  },
  {
   "cell_type": "code",
   "execution_count": null,
   "metadata": {},
   "outputs": [],
   "source": [
    "_ = df.hist(figsize=(12, 10), bins=50)"
   ]
  },
  {
   "cell_type": "markdown",
   "metadata": {},
   "source": [
    "### 범주형 데이터"
   ]
  },
  {
   "cell_type": "code",
   "execution_count": null,
   "metadata": {},
   "outputs": [],
   "source": [
    "# 반도수, 유일값 빈도수, 최빈값, 최빈값에 대한 빈도수\n",
    "df.describe(include=\"object\")"
   ]
  },
  {
   "cell_type": "code",
   "execution_count": null,
   "metadata": {},
   "outputs": [],
   "source": [
    "# 유일값 빈도수\n",
    "df.nunique()"
   ]
  },
  {
   "cell_type": "markdown",
   "metadata": {},
   "source": [
    "## 수목 수령"
   ]
  },
  {
   "cell_type": "code",
   "execution_count": null,
   "metadata": {},
   "outputs": [],
   "source": [
    "df[\"수목 수령\"].describe()"
   ]
  },
  {
   "cell_type": "code",
   "execution_count": null,
   "metadata": {},
   "outputs": [],
   "source": [
    "# 수목 수령이 500 이상인 데이터를 찾습니다.\n",
    "df[df[\"수목 수령\"] > 500]"
   ]
  },
  {
   "cell_type": "code",
   "execution_count": null,
   "metadata": {},
   "outputs": [],
   "source": [
    "# 수목 수령에 대한 빈도수를 구하고 시각화 합니다.\n",
    "df[\"수목 수령\"].value_counts().sort_index().plot.bar(figsize=(15, 4), rot=0)"
   ]
  },
  {
   "cell_type": "code",
   "execution_count": null,
   "metadata": {},
   "outputs": [],
   "source": [
    "# 수목 수령에 대한 히스토그램을 그립니다.\n",
    "df[\"수목 수령\"].hist(bins=100)"
   ]
  },
  {
   "cell_type": "markdown",
   "metadata": {},
   "source": [
    "## 수종명 빈도"
   ]
  },
  {
   "cell_type": "code",
   "execution_count": null,
   "metadata": {},
   "outputs": [],
   "source": [
    "# 수종별 빈도수\n",
    "tree_count = df[\"수종명(한글명)\"].value_counts()\n",
    "tree_count.to_frame(name=\"count\").T"
   ]
  },
  {
   "cell_type": "code",
   "execution_count": null,
   "metadata": {},
   "outputs": [],
   "source": [
    "plt.figure(figsize=(15, 8))\n",
    "sns.countplot(data=df, y=\"수종명(한글명)\", order=tree_count.index, palette=\"Greens_r\")\n",
    "plt.title(\"수종명 빈도수\")"
   ]
  },
  {
   "cell_type": "code",
   "execution_count": null,
   "metadata": {},
   "outputs": [],
   "source": [
    "df[\"수종관리번호\"].value_counts()"
   ]
  },
  {
   "cell_type": "code",
   "execution_count": null,
   "metadata": {},
   "outputs": [],
   "source": [
    "df[df[\"수종관리번호\"].str.contains(\"미식재\")]"
   ]
  },
  {
   "cell_type": "markdown",
   "metadata": {},
   "source": [
    "## 경도, 위도별 수종"
   ]
  },
  {
   "cell_type": "code",
   "execution_count": null,
   "metadata": {},
   "outputs": [],
   "source": [
    "# plt.colormaps()"
   ]
  },
  {
   "cell_type": "code",
   "execution_count": null,
   "metadata": {},
   "outputs": [],
   "source": [
    "# 경도, 위도별 수종명\n",
    "plt.figure(figsize=(15, 8))\n",
    "sns.scatterplot(data=df, x=\"경도\", y=\"위도\", hue=\"수종명(한글명)\", palette=\"tab20c_r\")\n",
    "plt.legend(bbox_to_anchor=(1, 1))"
   ]
  },
  {
   "cell_type": "markdown",
   "metadata": {},
   "source": [
    "## 법정동별 수종 빈도"
   ]
  },
  {
   "cell_type": "code",
   "execution_count": null,
   "metadata": {},
   "outputs": [],
   "source": [
    "# 법정동별 수종 빈도수\n",
    "pd.crosstab(df[\"법정동 코드\"], df[\"수종명(한글명)\"]).style.format(\"{:,}\")"
   ]
  },
  {
   "cell_type": "code",
   "execution_count": null,
   "metadata": {},
   "outputs": [],
   "source": [
    "# pd.crosstab을 통해 두 개의 변수에 대한 빈도수 구하기\n",
    "load_tree = pd.crosstab(df[\"도로명코드\"], df[\"수종명(한글명)\"])\n",
    "load_tree.shape"
   ]
  },
  {
   "cell_type": "markdown",
   "metadata": {},
   "source": [
    "## 도로명코드와 수종 빈도"
   ]
  },
  {
   "cell_type": "code",
   "execution_count": null,
   "metadata": {},
   "outputs": [],
   "source": [
    "# \"도로명코드\"와 \"수종명(한글명)\" 에 대한 heatmap 표현하기 \n",
    "plt.figure(figsize=(20, 8))\n",
    "sns.heatmap(load_tree.T, cmap=\"Greys\")"
   ]
  },
  {
   "cell_type": "code",
   "execution_count": null,
   "metadata": {
    "scrolled": false
   },
   "outputs": [],
   "source": [
    "# 데이터 프레임 형태로 \"도로명코드\"와 \"수종명(한글명)\" 보기\n",
    "load_tree.style.format(\"{:,}\")"
   ]
  },
  {
   "cell_type": "markdown",
   "metadata": {},
   "source": [
    "## 조성 일자"
   ]
  },
  {
   "cell_type": "code",
   "execution_count": null,
   "metadata": {},
   "outputs": [],
   "source": [
    "# 조성 일자는 대부분 결측치\n",
    "df[\"조성 일자\"].value_counts()"
   ]
  },
  {
   "cell_type": "markdown",
   "metadata": {},
   "source": [
    "## 수고"
   ]
  },
  {
   "cell_type": "code",
   "execution_count": null,
   "metadata": {},
   "outputs": [],
   "source": [
    "tree_high_mean = df.groupby(\"수종명(한글명)\")[\"수고\"].mean().sort_values(ascending=False)\n",
    "tree_high_mean"
   ]
  },
  {
   "cell_type": "code",
   "execution_count": null,
   "metadata": {},
   "outputs": [],
   "source": [
    "plt.figure(figsize=(10, 8))\n",
    "sns.barplot(data=df, y=\"수종명(한글명)\", x=\"수고\", ci=None, order=tree_high_mean.index, palette=\"Greens_r\")\n",
    "plt.title(\"평균 수고\")"
   ]
  },
  {
   "cell_type": "markdown",
   "metadata": {},
   "source": [
    "## 수고, 수관폭, 흉고직경"
   ]
  },
  {
   "cell_type": "code",
   "execution_count": null,
   "metadata": {},
   "outputs": [],
   "source": [
    "plt.figure(figsize=(15, 10))\n",
    "sns.scatterplot(data=df, x=\"수고\", y=\"수관폭\", hue=\"수종명(한글명)\")\n",
    "plt.legend(bbox_to_anchor=(1,1))"
   ]
  },
  {
   "cell_type": "code",
   "execution_count": null,
   "metadata": {},
   "outputs": [],
   "source": [
    "plt.figure(figsize=(15, 10))\n",
    "sns.scatterplot(data=df, x=\"수고\", y=\"흉고직경\", hue=\"수종명(한글명)\")\n",
    "plt.legend(bbox_to_anchor=(1,1))"
   ]
  },
  {
   "cell_type": "markdown",
   "metadata": {},
   "source": [
    "## 조성위치"
   ]
  },
  {
   "cell_type": "code",
   "execution_count": null,
   "metadata": {
    "scrolled": false
   },
   "outputs": [],
   "source": [
    "plt.figure(figsize=(15, 10))\n",
    "sns.scatterplot(data=df, x=\"수고\", y=\"수관폭\", hue=\"조성위치\\n(좌/우/중앙분리대)\")\n",
    "plt.legend(bbox_to_anchor=(1,1))"
   ]
  },
  {
   "cell_type": "code",
   "execution_count": null,
   "metadata": {},
   "outputs": [],
   "source": [
    "plt.figure(figsize=(15, 10))\n",
    "sns.countplot(data=df, y=\"수종명(한글명)\", hue=\"조성위치\\n(좌/우/중앙분리대)\")"
   ]
  },
  {
   "cell_type": "code",
   "execution_count": null,
   "metadata": {},
   "outputs": [],
   "source": [
    "df.columns"
   ]
  },
  {
   "cell_type": "markdown",
   "metadata": {},
   "source": [
    "## 지도 시각화"
   ]
  },
  {
   "cell_type": "code",
   "execution_count": null,
   "metadata": {},
   "outputs": [],
   "source": [
    "lat_long = df[[\"위도\", \"경도\"]].mean()\n",
    "lat_long.values"
   ]
  },
  {
   "cell_type": "code",
   "execution_count": null,
   "metadata": {
    "scrolled": true
   },
   "outputs": [],
   "source": [
    "# folium 에 색상을 표현하기 위해 컬러 목록 가져오기\n",
    "import matplotlib.colors as mcolors\n",
    "\n",
    "colors = mcolors.CSS4_COLORS \n",
    "by_hsv = sorted((tuple(mcolors.rgb_to_hsv(mcolors.to_rgb(color))),\n",
    "                 name)\n",
    "                for name, color in colors.items())\n",
    "names = [name for hsv, name in by_hsv]\n",
    "len(names)"
   ]
  },
  {
   "cell_type": "code",
   "execution_count": null,
   "metadata": {},
   "outputs": [],
   "source": [
    "tree_name_count = df['수종명(한글명)'].nunique()\n",
    "tree_name_count"
   ]
  },
  {
   "cell_type": "code",
   "execution_count": null,
   "metadata": {},
   "outputs": [],
   "source": [
    "# 나무 종류별로 다른 색상으로 그리기 위해 컬러 코드 추출하기\n",
    "start_no = 20\n",
    "color_names = names[start_no::3]\n",
    "color_names_list = color_names[:tree_name_count]"
   ]
  },
  {
   "cell_type": "code",
   "execution_count": null,
   "metadata": {},
   "outputs": [],
   "source": [
    "folium_color_dict = dict(zip(df['수종명(한글명)'].unique().tolist(), color_names_list))\n",
    "folium_color_dict"
   ]
  },
  {
   "cell_type": "markdown",
   "metadata": {},
   "source": [
    "## folium 을 통한 나무 위치 시각화"
   ]
  },
  {
   "cell_type": "code",
   "execution_count": null,
   "metadata": {},
   "outputs": [],
   "source": [
    "# tooltip이 한줄에 찍히면 보기가 어렵기 때문에 <br/> 태그로 줄바꿈 표시\n",
    "\n",
    "str(df.loc[0].to_dict()).replace(\n",
    "    \"'수목 수령'\", \"<br/>'수목 수령'\").replace(\n",
    "    \"'법정동 코드'\", \"<br/>'법정동 코드'\").replace(\n",
    "    \"'조성 일자'\", \"<br/>'조성 일자'\")"
   ]
  },
  {
   "cell_type": "markdown",
   "metadata": {},
   "source": [
    "### 수목 수령이 큰 나무만 보기"
   ]
  },
  {
   "cell_type": "code",
   "execution_count": null,
   "metadata": {
    "scrolled": false
   },
   "outputs": [],
   "source": [
    "# tree_name = \"계수나무\"\n",
    "# tiles=\"Stamen Toner\"\n",
    "tree_map = folium.Map(location=lat_long.values, zoom_start=12)\n",
    "# df_tree = df[df['수종명(한글명)'] == tree_name]\n",
    "df_tree = df[df['수목 수령'] > 100]\n",
    "\n",
    "for sub_tree in df_tree.iterrows():\n",
    "    tree = sub_tree[1]\n",
    "    folium.CircleMarker(location=[tree[\"위도\"], tree[\"경도\"]], \n",
    "                        radius=1, color=folium_color_dict[tree['수종명(한글명)']],\n",
    "                        tooltip=str(tree.to_dict()).replace(\n",
    "                            \"'수목 수령'\", \"<br/>'수목 수령'\").replace(\n",
    "                            \"'법정동 코드'\", \"<br/>'법정동 코드'\").replace(\n",
    "                            \"'조성 일자'\", \"<br/>'조성 일자'\")\n",
    "                       ).add_to(tree_map)\n",
    "tree_map.save('tree_age.html')"
   ]
  },
  {
   "cell_type": "markdown",
   "metadata": {},
   "source": [
    "### 전체 나무"
   ]
  },
  {
   "cell_type": "code",
   "execution_count": null,
   "metadata": {},
   "outputs": [],
   "source": [
    "# tiles=\"Stamen Toner\"\n",
    "tree_map = folium.Map(location=lat_long.values, zoom_start=12)\n",
    "\n",
    "for sub_tree in df.iterrows():\n",
    "    tree = sub_tree[1]\n",
    "    folium.CircleMarker(location=[tree[\"위도\"], tree[\"경도\"]], \n",
    "                        radius=1, color=folium_color_dict[tree['수종명(한글명)']],\n",
    "                        tooltip=str(tree.to_dict()).replace(\n",
    "                            \"'수목 수령'\", \"<br/>'수목 수령'\").replace(\n",
    "                            \"'법정동 코드'\", \"<br/>'법정동 코드'\").replace(\n",
    "                            \"'조성 일자'\", \"<br/>'조성 일자'\")\n",
    "                       ).add_to(tree_map)\n",
    "tree_map.save('tree_all.html')"
   ]
  },
  {
   "cell_type": "markdown",
   "metadata": {},
   "source": [
    "### 지도의 타일 변경하기"
   ]
  },
  {
   "cell_type": "code",
   "execution_count": null,
   "metadata": {},
   "outputs": [],
   "source": [
    "# tiles=\"Stamen Toner\"\n",
    "tree_map = folium.Map(location=lat_long.values, zoom_start=12, tiles=\"Stamen Toner\")\n",
    "\n",
    "for sub_tree in df.iterrows():\n",
    "    tree = sub_tree[1]\n",
    "    folium.CircleMarker(location=[tree[\"위도\"], tree[\"경도\"]], \n",
    "                        radius=1, color=folium_color_dict[tree['수종명(한글명)']],\n",
    "                        tooltip=str(tree.to_dict()).replace(\n",
    "                            \"'수목 수령'\", \"<br/>'수목 수령'\").replace(\n",
    "                            \"'법정동 코드'\", \"<br/>'법정동 코드'\").replace(\n",
    "                            \"'조성 일자'\", \"<br/>'조성 일자'\")\n",
    "                       ).add_to(tree_map)\n",
    "tree_map.save('stamen_tree_all.html')"
   ]
  },
  {
   "cell_type": "code",
   "execution_count": null,
   "metadata": {},
   "outputs": [],
   "source": []
  }
 ],
 "metadata": {
  "kernelspec": {
   "display_name": "Python 3",
   "language": "python",
   "name": "python3"
  },
  "language_info": {
   "codemirror_mode": {
    "name": "ipython",
    "version": 3
   },
   "file_extension": ".py",
   "mimetype": "text/x-python",
   "name": "python",
   "nbconvert_exporter": "python",
   "pygments_lexer": "ipython3",
   "version": "3.7.6"
  },
  "toc": {
   "base_numbering": 1,
   "nav_menu": {},
   "number_sections": true,
   "sideBar": true,
   "skip_h1_title": false,
   "title_cell": "Table of Contents",
   "title_sidebar": "Contents",
   "toc_cell": false,
   "toc_position": {},
   "toc_section_display": true,
   "toc_window_display": true
  },
  "varInspector": {
   "cols": {
    "lenName": 16,
    "lenType": 16,
    "lenVar": 40
   },
   "kernels_config": {
    "python": {
     "delete_cmd_postfix": "",
     "delete_cmd_prefix": "del ",
     "library": "var_list.py",
     "varRefreshCmd": "print(var_dic_list())"
    },
    "r": {
     "delete_cmd_postfix": ") ",
     "delete_cmd_prefix": "rm(",
     "library": "var_list.r",
     "varRefreshCmd": "cat(var_dic_list()) "
    }
   },
   "types_to_exclude": [
    "module",
    "function",
    "builtin_function_or_method",
    "instance",
    "_Feature"
   ],
   "window_display": false
  }
 },
 "nbformat": 4,
 "nbformat_minor": 4
}
